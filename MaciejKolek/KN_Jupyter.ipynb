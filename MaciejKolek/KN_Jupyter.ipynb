{
 "cells": [
  {
   "cell_type": "code",
   "execution_count": 6,
   "id": "3a2a3473",
   "metadata": {},
   "outputs": [],
   "source": [
    "import numpy as np\n",
    "import pandas as pd\n",
    "import matplotlib.pyplot as plt\n",
    "from datetime import datetime\n",
    "plt.rcParams[\"figure.figsize\"] = [12, 8]"
   ]
  },
  {
   "cell_type": "code",
   "execution_count": 7,
   "id": "ee8acbcf",
   "metadata": {},
   "outputs": [],
   "source": [
    "df = pd.read_csv(r\"C:\\Users\\macie\\Downloads\\archive\\202004-divvy-tripdata.csv\")"
   ]
  },
  {
   "cell_type": "code",
   "execution_count": 8,
   "id": "b6f1c4e2",
   "metadata": {},
   "outputs": [
    {
     "data": {
      "text/plain": [
       "ride_id                object\n",
       "rideable_type          object\n",
       "started_at             object\n",
       "ended_at               object\n",
       "start_station_name     object\n",
       "start_station_id        int64\n",
       "end_station_name       object\n",
       "end_station_id        float64\n",
       "start_lat             float64\n",
       "start_lng             float64\n",
       "end_lat               float64\n",
       "end_lng               float64\n",
       "member_casual          object\n",
       "dtype: object"
      ]
     },
     "execution_count": 8,
     "metadata": {},
     "output_type": "execute_result"
    }
   ],
   "source": [
    "df.dtypes"
   ]
  },
  {
   "cell_type": "code",
   "execution_count": 9,
   "id": "b9cb5aa7",
   "metadata": {},
   "outputs": [
    {
     "data": {
      "text/plain": [
       "<AxesSubplot:>"
      ]
     },
     "execution_count": 9,
     "metadata": {},
     "output_type": "execute_result"
    },
    {
     "data": {
      "image/png": "[encoded data removed]",
      "text/plain": [
       "<Figure size 864x576 with 1 Axes>"
      ]
     },
     "metadata": {
      "needs_background": "light"
     },
     "output_type": "display_data"
    }
   ],
   "source": [
    "gs = df.groupby(\"start_station_id\").agg(\"ride_id\").count()\n",
    "gs.sort_values(ascending=False)\n",
    "gs\n",
    "\n",
    "x = np.arange(2,603)\n",
    "dd = pd.DataFrame(gs, index=x)\n",
    "ax = dd.plot.bar(rot=0)\n",
    "ax\n"
   ]
  },
  {
   "cell_type": "code",
   "execution_count": null,
   "id": "a2ba5532",
   "metadata": {},
   "outputs": [],
   "source": []
  },
  {
   "cell_type": "code",
   "execution_count": null,
   "id": "3625bb89",
   "metadata": {
    "scrolled": true
   },
   "outputs": [],
   "source": []
  },
  {
   "cell_type": "code",
   "execution_count": 10,
   "id": "c55fd0f9",
   "metadata": {},
   "outputs": [
    {
     "data": {
      "text/plain": [
       "start_station_name            end_station_name              \n",
       "Stockton Dr & Wrightwood Ave  Stockton Dr & Wrightwood Ave      119\n",
       "Indiana Ave & Roosevelt Rd    Indiana Ave & Roosevelt Rd        113\n",
       "Clark St & Elm St             Clark St & Elm St                 111\n",
       "Larrabee St & Webster Ave     Larrabee St & Webster Ave         110\n",
       "Wabash Ave & Grand Ave        Wabash Ave & Grand Ave            101\n",
       "                                                               ... \n",
       "Millennium Park               State St & Van Buren St             1\n",
       "                              Throop (Loomis) St & Taylor St      1\n",
       "Canal St & Monroe St          Kingsbury St & Erie St              1\n",
       "                              Franklin St & Lake St               1\n",
       "Damen Ave & Chicago Ave       California Ave & Altgeld St         1\n",
       "Name: ride_id, Length: 28050, dtype: int64"
      ]
     },
     "execution_count": 10,
     "metadata": {},
     "output_type": "execute_result"
    }
   ],
   "source": [
    "df.groupby([\"start_station_name\",\"end_station_name\"]).agg(\"ride_id\").count().sort_values(ascending=False)"
   ]
  },
  {
   "cell_type": "code",
   "execution_count": null,
   "id": "a5b01990",
   "metadata": {},
   "outputs": [],
   "source": []
  },
  {
   "cell_type": "code",
   "execution_count": null,
   "id": "5b336556",
   "metadata": {},
   "outputs": [],
   "source": []
  },
  {
   "cell_type": "markdown",
   "id": "09092ed7",
   "metadata": {},
   "source": []
  },
  {
   "cell_type": "code",
   "execution_count": null,
   "id": "7a7d6beb",
   "metadata": {},
   "outputs": [],
   "source": []
  },
  {
   "cell_type": "code",
   "execution_count": 11,
   "id": "9cbe57a5",
   "metadata": {
    "scrolled": true
   },
   "outputs": [
    {
     "data": {
      "text/plain": [
       "start_station_name            end_station_name             \n",
       "MLK Jr Dr & 29th St           State St & 33rd St               64\n",
       "State St & 33rd St            MLK Jr Dr & 29th St              46\n",
       "St. Clair St & Erie St        Clinton St & Washington Blvd     45\n",
       "Clinton St & Washington Blvd  St. Clair St & Erie St           43\n",
       "Streeter Dr & Grand Ave       Fairbanks St & Superior St       42\n",
       "Aberdeen St & Jackson Blvd    Loomis St & Lexington St         38\n",
       "Columbus Dr & Randolph St     Dearborn St & Monroe St          38\n",
       "Kingsbury St & Erie St        Dearborn St & Erie St            38\n",
       "Larrabee St & Oak St          Clark St & Elm St                37\n",
       "Halsted St & Willow St        Pine Grove Ave & Waveland Ave    36\n",
       "Name: ride_id, dtype: int64"
      ]
     },
     "execution_count": 11,
     "metadata": {},
     "output_type": "execute_result"
    }
   ],
   "source": [
    "zmiana_stacji = df.loc[df.start_station_id != df.end_station_id]\n",
    "zmiana_stacji.groupby([\"start_station_name\",\"end_station_name\"]).agg(\"ride_id\").count().sort_values(ascending=False).head(10)"
   ]
  },
  {
   "cell_type": "code",
   "execution_count": 12,
   "id": "a342a413",
   "metadata": {},
   "outputs": [
    {
     "data": {
      "text/plain": [
       "start_station_name\n",
       "Clark St & Elm St            739\n",
       "Desplaines St & Kinzie St    655\n",
       "Dearborn St & Erie St        629\n",
       "St. Clair St & Erie St       620\n",
       "Clark St & Armitage Ave      552\n",
       "Broadway & Barry Ave         530\n",
       "Wabash Ave & Grand Ave       513\n",
       "Clark St & Lincoln Ave       497\n",
       "Clark St & Schiller St       491\n",
       "Columbus Dr & Randolph St    481\n",
       "Name: ride_id, dtype: int64"
      ]
     },
     "execution_count": 12,
     "metadata": {},
     "output_type": "execute_result"
    }
   ],
   "source": [
    "zmiana_stacji.groupby([\"start_station_name\"]).agg(\"ride_id\").count().sort_values(ascending=False).head(10)"
   ]
  },
  {
   "cell_type": "code",
   "execution_count": null,
   "id": "42f3dd50",
   "metadata": {},
   "outputs": [],
   "source": []
  },
  {
   "cell_type": "code",
   "execution_count": null,
   "id": "8ab1b506",
   "metadata": {},
   "outputs": [],
   "source": []
  },
  {
   "cell_type": "code",
   "execution_count": null,
   "id": "144b9ab2",
   "metadata": {},
   "outputs": [],
   "source": []
  },
  {
   "cell_type": "code",
   "execution_count": 13,
   "id": "305e9b08",
   "metadata": {},
   "outputs": [],
   "source": [
    "df['started_at'] = pd.to_datetime(df['started_at'])\n",
    "df['ended_at'] = pd.to_datetime(df['ended_at'])\n"
   ]
  },
  {
   "cell_type": "code",
   "execution_count": null,
   "id": "e2912195",
   "metadata": {},
   "outputs": [],
   "source": []
  },
  {
   "cell_type": "code",
   "execution_count": 14,
   "id": "6639b8af",
   "metadata": {},
   "outputs": [],
   "source": [
    "df['time_spent'] = df['ended_at'] - df['started_at']\n",
    "df = df.loc[df[\"time_spent\"] < '1 days']\n",
    "df = df.loc[df[\"time_spent\"] > '0 days']\n",
    "timebiking = df['ended_at'] - df['started_at']\n"
   ]
  },
  {
   "cell_type": "code",
   "execution_count": 15,
   "id": "d9a021db",
   "metadata": {
    "scrolled": true
   },
   "outputs": [
    {
     "data": {
      "text/plain": [
       "0   0 days 00:26:49\n",
       "1   0 days 00:08:09\n",
       "2   0 days 00:14:23\n",
       "3   0 days 00:12:12\n",
       "4   0 days 00:52:55\n",
       "dtype: timedelta64[ns]"
      ]
     },
     "execution_count": 15,
     "metadata": {},
     "output_type": "execute_result"
    }
   ],
   "source": [
    "timebiking.head()"
   ]
  },
  {
   "cell_type": "code",
   "execution_count": 16,
   "id": "a3137fab",
   "metadata": {},
   "outputs": [
    {
     "data": {
      "text/plain": [
       "45232   0 days 23:58:33\n",
       "20880   0 days 23:56:39\n",
       "62897   0 days 23:55:10\n",
       "58084   0 days 23:38:58\n",
       "68148   0 days 23:34:32\n",
       "              ...      \n",
       "11425   0 days 00:00:02\n",
       "70245   0 days 00:00:02\n",
       "63395   0 days 00:00:02\n",
       "36281   0 days 00:00:01\n",
       "16560   0 days 00:00:01\n",
       "Length: 84594, dtype: timedelta64[ns]"
      ]
     },
     "execution_count": 16,
     "metadata": {},
     "output_type": "execute_result"
    }
   ],
   "source": [
    "timebiking.sort_values(ascending=False)"
   ]
  },
  {
   "cell_type": "code",
   "execution_count": 17,
   "id": "72352cf8",
   "metadata": {},
   "outputs": [
    {
     "data": {
      "text/plain": [
       "Timedelta('0 days 00:23:59.091176679')"
      ]
     },
     "execution_count": 17,
     "metadata": {},
     "output_type": "execute_result"
    }
   ],
   "source": [
    "timebiking.mean()"
   ]
  },
  {
   "cell_type": "code",
   "execution_count": 18,
   "id": "5e9c4ba8",
   "metadata": {},
   "outputs": [],
   "source": [
    "timebiking = timebiking.loc[timebiking < '1 days']\n",
    "timebiking = timebiking.loc[timebiking > '0 days']"
   ]
  },
  {
   "cell_type": "code",
   "execution_count": 19,
   "id": "3f1a0758",
   "metadata": {},
   "outputs": [
    {
     "data": {
      "text/plain": [
       "45232   0 days 23:58:33\n",
       "20880   0 days 23:56:39\n",
       "62897   0 days 23:55:10\n",
       "58084   0 days 23:38:58\n",
       "68148   0 days 23:34:32\n",
       "              ...      \n",
       "11425   0 days 00:00:02\n",
       "70245   0 days 00:00:02\n",
       "63395   0 days 00:00:02\n",
       "36281   0 days 00:00:01\n",
       "16560   0 days 00:00:01\n",
       "Length: 84594, dtype: timedelta64[ns]"
      ]
     },
     "execution_count": 19,
     "metadata": {},
     "output_type": "execute_result"
    }
   ],
   "source": [
    "timebiking.sort_values(ascending=False)"
   ]
  },
  {
   "cell_type": "code",
   "execution_count": 20,
   "id": "0f18bd9b",
   "metadata": {},
   "outputs": [
    {
     "data": {
      "text/plain": [
       "Timedelta('0 days 00:23:59.091176679')"
      ]
     },
     "execution_count": 20,
     "metadata": {},
     "output_type": "execute_result"
    }
   ],
   "source": [
    "timebiking.mean()"
   ]
  },
  {
   "cell_type": "code",
   "execution_count": 21,
   "id": "225a065a",
   "metadata": {},
   "outputs": [
    {
     "data": {
      "image/png": "[encoded data removed]",
      "text/plain": [
       "<Figure size 864x576 with 1 Axes>"
      ]
     },
     "metadata": {
      "needs_background": "light"
     },
     "output_type": "display_data"
    }
   ],
   "source": [
    "fig = (timebiking.astype('timedelta64[m]')).plot.hist(bins = 60, range = (0,60), rwidth = 0.8)\n",
    "fig.set_title(\"time spent biking\")\n",
    "fig.set_xlabel(\"minutes\")\n",
    "fig.set_ylabel(\"rides\")\n",
    "fig.set_adjustable('box', share=False)\n"
   ]
  },
  {
   "cell_type": "code",
   "execution_count": 22,
   "id": "f7b95fdd",
   "metadata": {},
   "outputs": [
    {
     "data": {
      "image/png": "[encoded data removed]",
      "text/plain": [
       "<Figure size 864x576 with 1 Axes>"
      ]
     },
     "metadata": {
      "needs_background": "light"
     },
     "output_type": "display_data"
    }
   ],
   "source": [
    "fig = (df['started_at'].dt.hour +df['started_at'].dt.minute/60).plot.hist(bins = 100, range = (0,24))\n",
    "fig.set_title(\"Most popular hours\")\n",
    "fig.set_xlabel(\"hours\")\n",
    "fig.set_ylabel(\"rides\")\n",
    "fig.set_adjustable('box', share=False)"
   ]
  },
  {
   "cell_type": "code",
   "execution_count": 23,
   "id": "6048ad74",
   "metadata": {},
   "outputs": [
    {
     "data": {
      "text/html": [
       "<div>\n",
       "<style scoped>\n",
       "    .dataframe tbody tr th:only-of-type {\n",
       "        vertical-align: middle;\n",
       "    }\n",
       "\n",
       "    .dataframe tbody tr th {\n",
       "        vertical-align: top;\n",
       "    }\n",
       "\n",
       "    .dataframe thead th {\n",
       "        text-align: right;\n",
       "    }\n",
       "</style>\n",
       "<table border=\"1\" class=\"dataframe\">\n",
       "  <thead>\n",
       "    <tr style=\"text-align: right;\">\n",
       "      <th></th>\n",
       "      <th>time_spent_x</th>\n",
       "      <th>time_spent_y</th>\n",
       "      <th>mean</th>\n",
       "    </tr>\n",
       "    <tr>\n",
       "      <th>start_station_name</th>\n",
       "      <th></th>\n",
       "      <th></th>\n",
       "      <th></th>\n",
       "    </tr>\n",
       "  </thead>\n",
       "  <tbody>\n",
       "    <tr>\n",
       "      <th>Chicago Ave &amp; Dempster St</th>\n",
       "      <td>3 days 09:45:17</td>\n",
       "      <td>109</td>\n",
       "      <td>0 days 00:45:00.155963302</td>\n",
       "    </tr>\n",
       "    <tr>\n",
       "      <th>Sheridan Rd &amp; Greenleaf Ave</th>\n",
       "      <td>2 days 22:41:45</td>\n",
       "      <td>108</td>\n",
       "      <td>0 days 00:39:16.527777777</td>\n",
       "    </tr>\n",
       "    <tr>\n",
       "      <th>State St &amp; Kinzie St</th>\n",
       "      <td>6 days 04:16:45</td>\n",
       "      <td>229</td>\n",
       "      <td>0 days 00:38:51.026200873</td>\n",
       "    </tr>\n",
       "    <tr>\n",
       "      <th>Leavitt St &amp; North Ave</th>\n",
       "      <td>4 days 07:27:29</td>\n",
       "      <td>161</td>\n",
       "      <td>0 days 00:38:33.347826086</td>\n",
       "    </tr>\n",
       "    <tr>\n",
       "      <th>Benson Ave &amp; Church St</th>\n",
       "      <td>2 days 21:18:01</td>\n",
       "      <td>110</td>\n",
       "      <td>0 days 00:37:48.009090909</td>\n",
       "    </tr>\n",
       "    <tr>\n",
       "      <th>...</th>\n",
       "      <td>...</td>\n",
       "      <td>...</td>\n",
       "      <td>...</td>\n",
       "    </tr>\n",
       "    <tr>\n",
       "      <th>Clinton St &amp; Jackson Blvd</th>\n",
       "      <td>1 days 03:48:36</td>\n",
       "      <td>119</td>\n",
       "      <td>0 days 00:14:01.310924369</td>\n",
       "    </tr>\n",
       "    <tr>\n",
       "      <th>Fairbanks St &amp; Superior St</th>\n",
       "      <td>2 days 07:43:26</td>\n",
       "      <td>241</td>\n",
       "      <td>0 days 00:13:52.390041493</td>\n",
       "    </tr>\n",
       "    <tr>\n",
       "      <th>900 W Harrison St</th>\n",
       "      <td>1 days 05:26:18</td>\n",
       "      <td>129</td>\n",
       "      <td>0 days 00:13:41.534883720</td>\n",
       "    </tr>\n",
       "    <tr>\n",
       "      <th>Canal St &amp; Adams St</th>\n",
       "      <td>1 days 19:31:04</td>\n",
       "      <td>207</td>\n",
       "      <td>0 days 00:12:36.830917874</td>\n",
       "    </tr>\n",
       "    <tr>\n",
       "      <th>Clark St &amp; Ida B Wells Dr</th>\n",
       "      <td>1 days 02:59:06</td>\n",
       "      <td>132</td>\n",
       "      <td>0 days 00:12:15.954545454</td>\n",
       "    </tr>\n",
       "  </tbody>\n",
       "</table>\n",
       "<p>287 rows × 3 columns</p>\n",
       "</div>"
      ],
      "text/plain": [
       "                               time_spent_x  time_spent_y  \\\n",
       "start_station_name                                          \n",
       "Chicago Ave & Dempster St   3 days 09:45:17           109   \n",
       "Sheridan Rd & Greenleaf Ave 2 days 22:41:45           108   \n",
       "State St & Kinzie St        6 days 04:16:45           229   \n",
       "Leavitt St & North Ave      4 days 07:27:29           161   \n",
       "Benson Ave & Church St      2 days 21:18:01           110   \n",
       "...                                     ...           ...   \n",
       "Clinton St & Jackson Blvd   1 days 03:48:36           119   \n",
       "Fairbanks St & Superior St  2 days 07:43:26           241   \n",
       "900 W Harrison St           1 days 05:26:18           129   \n",
       "Canal St & Adams St         1 days 19:31:04           207   \n",
       "Clark St & Ida B Wells Dr   1 days 02:59:06           132   \n",
       "\n",
       "                                                 mean  \n",
       "start_station_name                                     \n",
       "Chicago Ave & Dempster St   0 days 00:45:00.155963302  \n",
       "Sheridan Rd & Greenleaf Ave 0 days 00:39:16.527777777  \n",
       "State St & Kinzie St        0 days 00:38:51.026200873  \n",
       "Leavitt St & North Ave      0 days 00:38:33.347826086  \n",
       "Benson Ave & Church St      0 days 00:37:48.009090909  \n",
       "...                                               ...  \n",
       "Clinton St & Jackson Blvd   0 days 00:14:01.310924369  \n",
       "Fairbanks St & Superior St  0 days 00:13:52.390041493  \n",
       "900 W Harrison St           0 days 00:13:41.534883720  \n",
       "Canal St & Adams St         0 days 00:12:36.830917874  \n",
       "Clark St & Ida B Wells Dr   0 days 00:12:15.954545454  \n",
       "\n",
       "[287 rows x 3 columns]"
      ]
     },
     "execution_count": 23,
     "metadata": {},
     "output_type": "execute_result"
    }
   ],
   "source": [
    "a = df.groupby(\"start_station_name\").agg('time_spent').sum().sort_values(ascending=False)\n",
    "b = df.groupby(\"start_station_name\").agg('time_spent').count().sort_values(ascending=False)\n",
    "a = pd.merge(a,b, on=\"start_station_name\")\n",
    "a[\"mean\"] = a[\"time_spent_x\"] / a[\"time_spent_y\"]\n",
    "a = a.loc[a[\"time_spent_y\"]>100]\n",
    "a.sort_values([\"mean\"], ascending=False)\n"
   ]
  },
  {
   "cell_type": "code",
   "execution_count": 24,
   "id": "b9c9eb6a",
   "metadata": {},
   "outputs": [
    {
     "data": {
      "text/plain": [
       "weekday\n",
       "0    10723\n",
       "1    12783\n",
       "2     8698\n",
       "3    11683\n",
       "4     9950\n",
       "5    12881\n",
       "6    17876\n",
       "Name: ride_id, dtype: int64"
      ]
     },
     "execution_count": 24,
     "metadata": {},
     "output_type": "execute_result"
    }
   ],
   "source": [
    "df[\"weekday\"] = df[\"started_at\"].dt.dayofweek\n",
    "weekdf = df.groupby(\"weekday\").agg(\"ride_id\").count()\n",
    "weekdf"
   ]
  },
  {
   "cell_type": "code",
   "execution_count": 25,
   "id": "7231f3b2",
   "metadata": {},
   "outputs": [
    {
     "data": {
      "text/plain": [
       "<BarContainer object of 7 artists>"
      ]
     },
     "execution_count": 25,
     "metadata": {},
     "output_type": "execute_result"
    },
    {
     "data": {
      "image/png": "[encoded data removed]",
      "text/plain": [
       "<Figure size 864x576 with 1 Axes>"
      ]
     },
     "metadata": {
      "needs_background": "light"
     },
     "output_type": "display_data"
    }
   ],
   "source": [
    "x = ['Monday', 'Tuesday', ' Wednesday', 'Thursday', 'Friday', 'Saturday', 'Sunday' ]\n",
    "plt.figure()\n",
    "plt.rcParams[\"figure.figsize\"] = [10, 6]\n",
    "plt.bar(x,weekdf)"
   ]
  },
  {
   "cell_type": "code",
   "execution_count": null,
   "id": "ab6d088e",
   "metadata": {},
   "outputs": [],
   "source": []
  }
 ],
 "metadata": {
  "kernelspec": {
   "display_name": "Python 3",
   "language": "python",
   "name": "python3"
  },
  "language_info": {
   "codemirror_mode": {
    "name": "ipython",
    "version": 3
   },
   "file_extension": ".py",
   "mimetype": "text/x-python",
   "name": "python",
   "nbconvert_exporter": "python",
   "pygments_lexer": "ipython3",
   "version": "3.8.8"
  }
 },
 "nbformat": 4,
 "nbformat_minor": 5
}
