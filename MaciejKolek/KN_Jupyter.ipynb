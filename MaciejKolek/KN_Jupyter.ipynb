{
 "cells": [
  {
   "cell_type": "code",
   "execution_count": 249,
   "id": "3a2a3473",
   "metadata": {},
   "outputs": [],
   "source": [
    "import numpy as np\n",
    "import pandas as pd\n",
    "import matplotlib.pyplot as plt\n",
    "from datetime import datetime\n",
    "plt.rcParams[\"figure.figsize\"] = [14, 8]"
   ]
  },
  {
   "cell_type": "code",
   "execution_count": 250,
   "id": "ee8acbcf",
   "metadata": {},
   "outputs": [],
   "source": [
    "df = pd.read_csv(r\"C:\\Users\\macie\\Downloads\\archive\\202004-divvy-tripdata.csv\")"
   ]
  },
  {
   "cell_type": "code",
   "execution_count": 251,
   "id": "b6f1c4e2",
   "metadata": {},
   "outputs": [
    {
     "data": {
      "text/plain": [
       "ride_id                object\n",
       "rideable_type          object\n",
       "started_at             object\n",
       "ended_at               object\n",
       "start_station_name     object\n",
       "start_station_id        int64\n",
       "end_station_name       object\n",
       "end_station_id        float64\n",
       "start_lat             float64\n",
       "start_lng             float64\n",
       "end_lat               float64\n",
       "end_lng               float64\n",
       "member_casual          object\n",
       "dtype: object"
      ]
     },
     "execution_count": 251,
     "metadata": {},
     "output_type": "execute_result"
    }
   ],
   "source": [
    "df.dtypes"
   ]
  },
  {
   "cell_type": "code",
   "execution_count": 305,
   "id": "b9cb5aa7",
   "metadata": {},
   "outputs": [
    {
     "data": {
      "text/html": [
       "<div>\n",
       "<style scoped>\n",
       "    .dataframe tbody tr th:only-of-type {\n",
       "        vertical-align: middle;\n",
       "    }\n",
       "\n",
       "    .dataframe tbody tr th {\n",
       "        vertical-align: top;\n",
       "    }\n",
       "\n",
       "    .dataframe thead th {\n",
       "        text-align: right;\n",
       "    }\n",
       "</style>\n",
       "<table border=\"1\" class=\"dataframe\">\n",
       "  <thead>\n",
       "    <tr style=\"text-align: right;\">\n",
       "      <th></th>\n",
       "      <th>start_station_name</th>\n",
       "      <th>number of rentals</th>\n",
       "    </tr>\n",
       "  </thead>\n",
       "  <tbody>\n",
       "    <tr>\n",
       "      <th>0</th>\n",
       "      <td>Clark St &amp; Elm St</td>\n",
       "      <td>848</td>\n",
       "    </tr>\n",
       "    <tr>\n",
       "      <th>1</th>\n",
       "      <td>Dearborn St &amp; Erie St</td>\n",
       "      <td>730</td>\n",
       "    </tr>\n",
       "    <tr>\n",
       "      <th>2</th>\n",
       "      <td>Desplaines St &amp; Kinzie St</td>\n",
       "      <td>720</td>\n",
       "    </tr>\n",
       "    <tr>\n",
       "      <th>3</th>\n",
       "      <td>St. Clair St &amp; Erie St</td>\n",
       "      <td>684</td>\n",
       "    </tr>\n",
       "    <tr>\n",
       "      <th>4</th>\n",
       "      <td>Clark St &amp; Armitage Ave</td>\n",
       "      <td>625</td>\n",
       "    </tr>\n",
       "    <tr>\n",
       "      <th>5</th>\n",
       "      <td>Wabash Ave &amp; Grand Ave</td>\n",
       "      <td>612</td>\n",
       "    </tr>\n",
       "    <tr>\n",
       "      <th>6</th>\n",
       "      <td>Broadway &amp; Barry Ave</td>\n",
       "      <td>605</td>\n",
       "    </tr>\n",
       "    <tr>\n",
       "      <th>7</th>\n",
       "      <td>Stockton Dr &amp; Wrightwood Ave</td>\n",
       "      <td>584</td>\n",
       "    </tr>\n",
       "    <tr>\n",
       "      <th>8</th>\n",
       "      <td>Larrabee St &amp; Webster Ave</td>\n",
       "      <td>575</td>\n",
       "    </tr>\n",
       "    <tr>\n",
       "      <th>9</th>\n",
       "      <td>Clark St &amp; Schiller St</td>\n",
       "      <td>570</td>\n",
       "    </tr>\n",
       "  </tbody>\n",
       "</table>\n",
       "</div>"
      ],
      "text/plain": [
       "             start_station_name  number of rentals\n",
       "0             Clark St & Elm St                848\n",
       "1         Dearborn St & Erie St                730\n",
       "2     Desplaines St & Kinzie St                720\n",
       "3        St. Clair St & Erie St                684\n",
       "4       Clark St & Armitage Ave                625\n",
       "5        Wabash Ave & Grand Ave                612\n",
       "6          Broadway & Barry Ave                605\n",
       "7  Stockton Dr & Wrightwood Ave                584\n",
       "8     Larrabee St & Webster Ave                575\n",
       "9        Clark St & Schiller St                570"
      ]
     },
     "execution_count": 305,
     "metadata": {},
     "output_type": "execute_result"
    }
   ],
   "source": [
    "gs = df.groupby(\"start_station_name\").agg(\"ride_id\").count().sort_values(ascending=False)\n",
    "gs = gs.to_frame()\n",
    "gs = gs.reset_index()\n",
    "gs = gs.rename(columns={'ride_id': 'number of rentals'})\n",
    "gs.head(10)\n",
    "\n"
   ]
  },
  {
   "cell_type": "code",
   "execution_count": null,
   "id": "a2ba5532",
   "metadata": {},
   "outputs": [],
   "source": []
  },
  {
   "cell_type": "code",
   "execution_count": null,
   "id": "3625bb89",
   "metadata": {
    "scrolled": true
   },
   "outputs": [],
   "source": []
  },
  {
   "cell_type": "code",
   "execution_count": 308,
   "id": "c55fd0f9",
   "metadata": {},
   "outputs": [
    {
     "data": {
      "text/html": [
       "<div>\n",
       "<style scoped>\n",
       "    .dataframe tbody tr th:only-of-type {\n",
       "        vertical-align: middle;\n",
       "    }\n",
       "\n",
       "    .dataframe tbody tr th {\n",
       "        vertical-align: top;\n",
       "    }\n",
       "\n",
       "    .dataframe thead th {\n",
       "        text-align: right;\n",
       "    }\n",
       "</style>\n",
       "<table border=\"1\" class=\"dataframe\">\n",
       "  <thead>\n",
       "    <tr style=\"text-align: right;\">\n",
       "      <th></th>\n",
       "      <th>start_station_name</th>\n",
       "      <th>end_station_name</th>\n",
       "      <th>number of rides</th>\n",
       "    </tr>\n",
       "  </thead>\n",
       "  <tbody>\n",
       "    <tr>\n",
       "      <th>0</th>\n",
       "      <td>Stockton Dr &amp; Wrightwood Ave</td>\n",
       "      <td>Stockton Dr &amp; Wrightwood Ave</td>\n",
       "      <td>119</td>\n",
       "    </tr>\n",
       "    <tr>\n",
       "      <th>1</th>\n",
       "      <td>Indiana Ave &amp; Roosevelt Rd</td>\n",
       "      <td>Indiana Ave &amp; Roosevelt Rd</td>\n",
       "      <td>113</td>\n",
       "    </tr>\n",
       "    <tr>\n",
       "      <th>2</th>\n",
       "      <td>Clark St &amp; Elm St</td>\n",
       "      <td>Clark St &amp; Elm St</td>\n",
       "      <td>111</td>\n",
       "    </tr>\n",
       "    <tr>\n",
       "      <th>3</th>\n",
       "      <td>Larrabee St &amp; Webster Ave</td>\n",
       "      <td>Larrabee St &amp; Webster Ave</td>\n",
       "      <td>110</td>\n",
       "    </tr>\n",
       "    <tr>\n",
       "      <th>4</th>\n",
       "      <td>Clarendon Ave &amp; Gordon Ter</td>\n",
       "      <td>Clarendon Ave &amp; Gordon Ter</td>\n",
       "      <td>101</td>\n",
       "    </tr>\n",
       "    <tr>\n",
       "      <th>5</th>\n",
       "      <td>Dearborn St &amp; Erie St</td>\n",
       "      <td>Dearborn St &amp; Erie St</td>\n",
       "      <td>101</td>\n",
       "    </tr>\n",
       "    <tr>\n",
       "      <th>6</th>\n",
       "      <td>Wabash Ave &amp; Grand Ave</td>\n",
       "      <td>Wabash Ave &amp; Grand Ave</td>\n",
       "      <td>101</td>\n",
       "    </tr>\n",
       "    <tr>\n",
       "      <th>7</th>\n",
       "      <td>Wells St &amp; Elm St</td>\n",
       "      <td>Wells St &amp; Elm St</td>\n",
       "      <td>93</td>\n",
       "    </tr>\n",
       "    <tr>\n",
       "      <th>8</th>\n",
       "      <td>California Ave &amp; Montrose Ave</td>\n",
       "      <td>California Ave &amp; Montrose Ave</td>\n",
       "      <td>90</td>\n",
       "    </tr>\n",
       "    <tr>\n",
       "      <th>9</th>\n",
       "      <td>Federal St &amp; Polk St</td>\n",
       "      <td>Federal St &amp; Polk St</td>\n",
       "      <td>86</td>\n",
       "    </tr>\n",
       "  </tbody>\n",
       "</table>\n",
       "</div>"
      ],
      "text/plain": [
       "              start_station_name               end_station_name  \\\n",
       "0   Stockton Dr & Wrightwood Ave   Stockton Dr & Wrightwood Ave   \n",
       "1     Indiana Ave & Roosevelt Rd     Indiana Ave & Roosevelt Rd   \n",
       "2              Clark St & Elm St              Clark St & Elm St   \n",
       "3      Larrabee St & Webster Ave      Larrabee St & Webster Ave   \n",
       "4     Clarendon Ave & Gordon Ter     Clarendon Ave & Gordon Ter   \n",
       "5          Dearborn St & Erie St          Dearborn St & Erie St   \n",
       "6         Wabash Ave & Grand Ave         Wabash Ave & Grand Ave   \n",
       "7              Wells St & Elm St              Wells St & Elm St   \n",
       "8  California Ave & Montrose Ave  California Ave & Montrose Ave   \n",
       "9           Federal St & Polk St           Federal St & Polk St   \n",
       "\n",
       "   number of rides  \n",
       "0              119  \n",
       "1              113  \n",
       "2              111  \n",
       "3              110  \n",
       "4              101  \n",
       "5              101  \n",
       "6              101  \n",
       "7               93  \n",
       "8               90  \n",
       "9               86  "
      ]
     },
     "execution_count": 308,
     "metadata": {},
     "output_type": "execute_result"
    }
   ],
   "source": [
    "t1 = df.groupby([\"start_station_name\",\"end_station_name\"]).agg(\"ride_id\").count().sort_values(ascending=False).head(10)\n",
    "t1 = t1.to_frame()\n",
    "t1 = t1.reset_index()\n",
    "t1 = t1.rename(columns={'ride_id': 'number of rides'})\n",
    "t1.head(10)"
   ]
  },
  {
   "cell_type": "code",
   "execution_count": null,
   "id": "a5b01990",
   "metadata": {},
   "outputs": [],
   "source": []
  },
  {
   "cell_type": "code",
   "execution_count": null,
   "id": "5b336556",
   "metadata": {},
   "outputs": [],
   "source": []
  },
  {
   "cell_type": "markdown",
   "id": "09092ed7",
   "metadata": {},
   "source": []
  },
  {
   "cell_type": "code",
   "execution_count": null,
   "id": "7a7d6beb",
   "metadata": {},
   "outputs": [],
   "source": []
  },
  {
   "cell_type": "code",
   "execution_count": 312,
   "id": "9cbe57a5",
   "metadata": {
    "scrolled": true
   },
   "outputs": [
    {
     "data": {
      "text/html": [
       "<div>\n",
       "<style scoped>\n",
       "    .dataframe tbody tr th:only-of-type {\n",
       "        vertical-align: middle;\n",
       "    }\n",
       "\n",
       "    .dataframe tbody tr th {\n",
       "        vertical-align: top;\n",
       "    }\n",
       "\n",
       "    .dataframe thead th {\n",
       "        text-align: right;\n",
       "    }\n",
       "</style>\n",
       "<table border=\"1\" class=\"dataframe\">\n",
       "  <thead>\n",
       "    <tr style=\"text-align: right;\">\n",
       "      <th></th>\n",
       "      <th>start_station_name</th>\n",
       "      <th>end_station_name</th>\n",
       "      <th>number of rides</th>\n",
       "    </tr>\n",
       "  </thead>\n",
       "  <tbody>\n",
       "    <tr>\n",
       "      <th>0</th>\n",
       "      <td>MLK Jr Dr &amp; 29th St</td>\n",
       "      <td>State St &amp; 33rd St</td>\n",
       "      <td>64</td>\n",
       "    </tr>\n",
       "    <tr>\n",
       "      <th>1</th>\n",
       "      <td>State St &amp; 33rd St</td>\n",
       "      <td>MLK Jr Dr &amp; 29th St</td>\n",
       "      <td>46</td>\n",
       "    </tr>\n",
       "    <tr>\n",
       "      <th>2</th>\n",
       "      <td>St. Clair St &amp; Erie St</td>\n",
       "      <td>Clinton St &amp; Washington Blvd</td>\n",
       "      <td>44</td>\n",
       "    </tr>\n",
       "    <tr>\n",
       "      <th>3</th>\n",
       "      <td>Clinton St &amp; Washington Blvd</td>\n",
       "      <td>St. Clair St &amp; Erie St</td>\n",
       "      <td>43</td>\n",
       "    </tr>\n",
       "    <tr>\n",
       "      <th>4</th>\n",
       "      <td>Streeter Dr &amp; Grand Ave</td>\n",
       "      <td>Fairbanks St &amp; Superior St</td>\n",
       "      <td>42</td>\n",
       "    </tr>\n",
       "    <tr>\n",
       "      <th>5</th>\n",
       "      <td>Columbus Dr &amp; Randolph St</td>\n",
       "      <td>Dearborn St &amp; Monroe St</td>\n",
       "      <td>38</td>\n",
       "    </tr>\n",
       "    <tr>\n",
       "      <th>6</th>\n",
       "      <td>Kingsbury St &amp; Erie St</td>\n",
       "      <td>Dearborn St &amp; Erie St</td>\n",
       "      <td>38</td>\n",
       "    </tr>\n",
       "    <tr>\n",
       "      <th>7</th>\n",
       "      <td>Aberdeen St &amp; Jackson Blvd</td>\n",
       "      <td>Loomis St &amp; Lexington St</td>\n",
       "      <td>38</td>\n",
       "    </tr>\n",
       "    <tr>\n",
       "      <th>8</th>\n",
       "      <td>Larrabee St &amp; Oak St</td>\n",
       "      <td>Clark St &amp; Elm St</td>\n",
       "      <td>37</td>\n",
       "    </tr>\n",
       "    <tr>\n",
       "      <th>9</th>\n",
       "      <td>Halsted St &amp; Willow St</td>\n",
       "      <td>Pine Grove Ave &amp; Waveland Ave</td>\n",
       "      <td>36</td>\n",
       "    </tr>\n",
       "  </tbody>\n",
       "</table>\n",
       "</div>"
      ],
      "text/plain": [
       "             start_station_name               end_station_name  \\\n",
       "0           MLK Jr Dr & 29th St             State St & 33rd St   \n",
       "1            State St & 33rd St            MLK Jr Dr & 29th St   \n",
       "2        St. Clair St & Erie St   Clinton St & Washington Blvd   \n",
       "3  Clinton St & Washington Blvd         St. Clair St & Erie St   \n",
       "4       Streeter Dr & Grand Ave     Fairbanks St & Superior St   \n",
       "5     Columbus Dr & Randolph St        Dearborn St & Monroe St   \n",
       "6        Kingsbury St & Erie St          Dearborn St & Erie St   \n",
       "7    Aberdeen St & Jackson Blvd       Loomis St & Lexington St   \n",
       "8          Larrabee St & Oak St              Clark St & Elm St   \n",
       "9        Halsted St & Willow St  Pine Grove Ave & Waveland Ave   \n",
       "\n",
       "   number of rides  \n",
       "0               64  \n",
       "1               46  \n",
       "2               44  \n",
       "3               43  \n",
       "4               42  \n",
       "5               38  \n",
       "6               38  \n",
       "7               38  \n",
       "8               37  \n",
       "9               36  "
      ]
     },
     "execution_count": 312,
     "metadata": {},
     "output_type": "execute_result"
    }
   ],
   "source": [
    "zmiana_stacji = df.loc[df.start_station_id != df.end_station_id]\n",
    "zs = zmiana_stacji.groupby([\"start_station_name\",\"end_station_name\"]).agg(\"ride_id\").count().sort_values(ascending=False).head(10)\n",
    "zs = zs.to_frame()\n",
    "zs = zs.reset_index()\n",
    "zs = zs.rename(columns={'ride_id': 'number of rides'})\n",
    "zs.head(10)"
   ]
  },
  {
   "cell_type": "code",
   "execution_count": 255,
   "id": "a342a413",
   "metadata": {},
   "outputs": [
    {
     "data": {
      "text/plain": [
       "start_station_name\n",
       "Clark St & Elm St            739\n",
       "Desplaines St & Kinzie St    655\n",
       "Dearborn St & Erie St        629\n",
       "St. Clair St & Erie St       620\n",
       "Clark St & Armitage Ave      552\n",
       "Broadway & Barry Ave         530\n",
       "Wabash Ave & Grand Ave       513\n",
       "Clark St & Lincoln Ave       497\n",
       "Clark St & Schiller St       491\n",
       "Columbus Dr & Randolph St    481\n",
       "Name: ride_id, dtype: int64"
      ]
     },
     "execution_count": 255,
     "metadata": {},
     "output_type": "execute_result"
    }
   ],
   "source": [
    "zmiana_stacji.groupby([\"start_station_name\"]).agg(\"ride_id\").count().sort_values(ascending=False).head(10)"
   ]
  },
  {
   "cell_type": "code",
   "execution_count": null,
   "id": "42f3dd50",
   "metadata": {},
   "outputs": [],
   "source": []
  },
  {
   "cell_type": "code",
   "execution_count": null,
   "id": "8ab1b506",
   "metadata": {},
   "outputs": [],
   "source": []
  },
  {
   "cell_type": "code",
   "execution_count": null,
   "id": "144b9ab2",
   "metadata": {},
   "outputs": [],
   "source": []
  },
  {
   "cell_type": "code",
   "execution_count": 256,
   "id": "305e9b08",
   "metadata": {},
   "outputs": [
    {
     "data": {
      "text/plain": [
       "45232   0 days 23:58:33\n",
       "20880   0 days 23:56:39\n",
       "62897   0 days 23:55:10\n",
       "58084   0 days 23:38:58\n",
       "68148   0 days 23:34:32\n",
       "              ...      \n",
       "11425   0 days 00:00:02\n",
       "70245   0 days 00:00:02\n",
       "63395   0 days 00:00:02\n",
       "36281   0 days 00:00:01\n",
       "16560   0 days 00:00:01\n",
       "Length: 84594, dtype: timedelta64[ns]"
      ]
     },
     "execution_count": 256,
     "metadata": {},
     "output_type": "execute_result"
    }
   ],
   "source": [
    "df['started_at'] = pd.to_datetime(df['started_at'])\n",
    "df['ended_at'] = pd.to_datetime(df['ended_at'])\n",
    "df['time_spent'] = df['ended_at'] - df['started_at']\n",
    "\n",
    "df = df.loc[df[\"time_spent\"] < '1 days']\n",
    "df = df.loc[df[\"time_spent\"] > '0 days']\n",
    "timebiking = df['ended_at'] - df['started_at']\n",
    "\n",
    "timebiking.sort_values(ascending=False)"
   ]
  },
  {
   "cell_type": "code",
   "execution_count": null,
   "id": "e2912195",
   "metadata": {},
   "outputs": [],
   "source": []
  },
  {
   "cell_type": "code",
   "execution_count": null,
   "id": "6639b8af",
   "metadata": {},
   "outputs": [],
   "source": [
    "\n"
   ]
  },
  {
   "cell_type": "code",
   "execution_count": null,
   "id": "d9a021db",
   "metadata": {
    "scrolled": true
   },
   "outputs": [],
   "source": []
  },
  {
   "cell_type": "code",
   "execution_count": null,
   "id": "a3137fab",
   "metadata": {},
   "outputs": [],
   "source": []
  },
  {
   "cell_type": "code",
   "execution_count": 257,
   "id": "72352cf8",
   "metadata": {},
   "outputs": [
    {
     "data": {
      "text/plain": [
       "Timedelta('0 days 00:23:59.091176679')"
      ]
     },
     "execution_count": 257,
     "metadata": {},
     "output_type": "execute_result"
    }
   ],
   "source": [
    "timebiking.mean()"
   ]
  },
  {
   "cell_type": "code",
   "execution_count": 258,
   "id": "5e9c4ba8",
   "metadata": {},
   "outputs": [],
   "source": [
    "timebiking = timebiking.loc[timebiking < '1 days']\n",
    "timebiking = timebiking.loc[timebiking > '0 days']"
   ]
  },
  {
   "cell_type": "code",
   "execution_count": 259,
   "id": "3f1a0758",
   "metadata": {},
   "outputs": [
    {
     "data": {
      "text/plain": [
       "45232   0 days 23:58:33\n",
       "20880   0 days 23:56:39\n",
       "62897   0 days 23:55:10\n",
       "58084   0 days 23:38:58\n",
       "68148   0 days 23:34:32\n",
       "              ...      \n",
       "11425   0 days 00:00:02\n",
       "70245   0 days 00:00:02\n",
       "63395   0 days 00:00:02\n",
       "36281   0 days 00:00:01\n",
       "16560   0 days 00:00:01\n",
       "Length: 84594, dtype: timedelta64[ns]"
      ]
     },
     "execution_count": 259,
     "metadata": {},
     "output_type": "execute_result"
    }
   ],
   "source": [
    "timebiking.sort_values(ascending=False)"
   ]
  },
  {
   "cell_type": "code",
   "execution_count": 260,
   "id": "0f18bd9b",
   "metadata": {},
   "outputs": [
    {
     "data": {
      "text/plain": [
       "Timedelta('0 days 00:23:59.091176679')"
      ]
     },
     "execution_count": 260,
     "metadata": {},
     "output_type": "execute_result"
    }
   ],
   "source": [
    "timebiking.mean()"
   ]
  },
  {
   "cell_type": "code",
   "execution_count": 261,
   "id": "225a065a",
   "metadata": {
    "scrolled": false
   },
   "outputs": [
    {
     "data": {
      "image/png": "[encoded data removed]",
      "text/plain": [
       "<Figure size 1008x576 with 1 Axes>"
      ]
     },
     "metadata": {
      "needs_background": "light"
     },
     "output_type": "display_data"
    }
   ],
   "source": [
    "fig = (timebiking.astype('timedelta64[m]')).plot.hist(bins = 60, range = (0,60), rwidth = 0.8)\n",
    "fig.set_title(\"time spent biking\")\n",
    "fig.set_xlabel(\"minutes\")\n",
    "fig.set_ylabel(\"rides\")\n",
    "fig.set_adjustable('box', share=False)\n"
   ]
  },
  {
   "cell_type": "code",
   "execution_count": 262,
   "id": "f7b95fdd",
   "metadata": {
    "scrolled": false
   },
   "outputs": [
    {
     "data": {
      "image/png": "[encoded data removed]",
      "text/plain": [
       "<Figure size 1008x576 with 1 Axes>"
      ]
     },
     "metadata": {
      "needs_background": "light"
     },
     "output_type": "display_data"
    }
   ],
   "source": [
    "fig = (df['started_at'].dt.hour +df['started_at'].dt.minute/60).plot.hist(bins = 100, range = (0,24))\n",
    "fig.set_title(\"Most popular hours\")\n",
    "fig.set_xlabel(\"hours\")\n",
    "fig.set_ylabel(\"rides\")\n",
    "fig.set_adjustable('box', share=False)\n",
    "ticks = np.arange(0,25,2)\n",
    "fig.set_xticks(ticks)\n",
    "fig.grid(axis=\"x\")\n",
    "plt.rcParams['axes.axisbelow'] = False"
   ]
  },
  {
   "cell_type": "code",
   "execution_count": 263,
   "id": "a9cea47b",
   "metadata": {
    "scrolled": false
   },
   "outputs": [
    {
     "data": {
      "image/png": "[encoded data removed]",
      "text/plain": [
       "<Figure size 1008x576 with 1 Axes>"
      ]
     },
     "metadata": {
      "needs_background": "light"
     },
     "output_type": "display_data"
    }
   ],
   "source": [
    "df[\"date\"] = df[\"started_at\"].dt.date\n",
    "ridesByDay =  df.groupby(\"date\").agg(\"ride_id\").count()\n",
    "df3 = pd.Series(list(range(len(ridesByDay))))\n",
    "colors = ['red' if i%7 == 4 else 'blue' for i in df3]\n",
    "\n",
    "fig, ax = plt.subplots()\n",
    "ax.scatter(df3+1, ridesByDay, c=colors)\n",
    "ax.plot(df3+1, ridesByDay)\n",
    "ax.set_title(\"Popularity by day in april\")\n",
    "ax.set_xlabel(\"Day of the month\")\n",
    "ax.set_ylabel(\"Rentals\")\n",
    "\n",
    "ticks = [1,5,12,19,26,30]\n",
    "labels = ['01.04\\nwednesday','05.04\\nsunday','12.04\\nsunday','19.04\\nsunday',\n",
    "          '26.04\\nsunday','30.04\\nthursday']\n",
    "ax.set_xticks(ticks)\n",
    "ax.set_xticklabels(labels)\n",
    "ax.grid(axis=\"x\")\n",
    "ax.set_yticks([ridesByDay.min(),1000,2000,3000,4000,5000,6000,ridesByDay.max()])\n",
    "plt.rcParams['axes.axisbelow'] = True\n",
    "\n"
   ]
  },
  {
   "cell_type": "code",
   "execution_count": 264,
   "id": "6048ad74",
   "metadata": {},
   "outputs": [
    {
     "data": {
      "text/html": [
       "<div>\n",
       "<style scoped>\n",
       "    .dataframe tbody tr th:only-of-type {\n",
       "        vertical-align: middle;\n",
       "    }\n",
       "\n",
       "    .dataframe tbody tr th {\n",
       "        vertical-align: top;\n",
       "    }\n",
       "\n",
       "    .dataframe thead th {\n",
       "        text-align: right;\n",
       "    }\n",
       "</style>\n",
       "<table border=\"1\" class=\"dataframe\">\n",
       "  <thead>\n",
       "    <tr style=\"text-align: right;\">\n",
       "      <th></th>\n",
       "      <th>time_spent_x</th>\n",
       "      <th>time_spent_y</th>\n",
       "      <th>mean</th>\n",
       "    </tr>\n",
       "    <tr>\n",
       "      <th>start_station_name</th>\n",
       "      <th></th>\n",
       "      <th></th>\n",
       "      <th></th>\n",
       "    </tr>\n",
       "  </thead>\n",
       "  <tbody>\n",
       "    <tr>\n",
       "      <th>Chicago Ave &amp; Dempster St</th>\n",
       "      <td>3 days 09:45:17</td>\n",
       "      <td>109</td>\n",
       "      <td>0 days 00:45:00.155963302</td>\n",
       "    </tr>\n",
       "    <tr>\n",
       "      <th>Sheridan Rd &amp; Greenleaf Ave</th>\n",
       "      <td>2 days 22:41:45</td>\n",
       "      <td>108</td>\n",
       "      <td>0 days 00:39:16.527777777</td>\n",
       "    </tr>\n",
       "    <tr>\n",
       "      <th>State St &amp; Kinzie St</th>\n",
       "      <td>6 days 04:16:45</td>\n",
       "      <td>229</td>\n",
       "      <td>0 days 00:38:51.026200873</td>\n",
       "    </tr>\n",
       "    <tr>\n",
       "      <th>Leavitt St &amp; North Ave</th>\n",
       "      <td>4 days 07:27:29</td>\n",
       "      <td>161</td>\n",
       "      <td>0 days 00:38:33.347826086</td>\n",
       "    </tr>\n",
       "    <tr>\n",
       "      <th>Benson Ave &amp; Church St</th>\n",
       "      <td>2 days 21:18:01</td>\n",
       "      <td>110</td>\n",
       "      <td>0 days 00:37:48.009090909</td>\n",
       "    </tr>\n",
       "    <tr>\n",
       "      <th>...</th>\n",
       "      <td>...</td>\n",
       "      <td>...</td>\n",
       "      <td>...</td>\n",
       "    </tr>\n",
       "    <tr>\n",
       "      <th>Clinton St &amp; Jackson Blvd</th>\n",
       "      <td>1 days 03:48:36</td>\n",
       "      <td>119</td>\n",
       "      <td>0 days 00:14:01.310924369</td>\n",
       "    </tr>\n",
       "    <tr>\n",
       "      <th>Fairbanks St &amp; Superior St</th>\n",
       "      <td>2 days 07:43:26</td>\n",
       "      <td>241</td>\n",
       "      <td>0 days 00:13:52.390041493</td>\n",
       "    </tr>\n",
       "    <tr>\n",
       "      <th>900 W Harrison St</th>\n",
       "      <td>1 days 05:26:18</td>\n",
       "      <td>129</td>\n",
       "      <td>0 days 00:13:41.534883720</td>\n",
       "    </tr>\n",
       "    <tr>\n",
       "      <th>Canal St &amp; Adams St</th>\n",
       "      <td>1 days 19:31:04</td>\n",
       "      <td>207</td>\n",
       "      <td>0 days 00:12:36.830917874</td>\n",
       "    </tr>\n",
       "    <tr>\n",
       "      <th>Clark St &amp; Ida B Wells Dr</th>\n",
       "      <td>1 days 02:59:06</td>\n",
       "      <td>132</td>\n",
       "      <td>0 days 00:12:15.954545454</td>\n",
       "    </tr>\n",
       "  </tbody>\n",
       "</table>\n",
       "<p>287 rows × 3 columns</p>\n",
       "</div>"
      ],
      "text/plain": [
       "                               time_spent_x  time_spent_y  \\\n",
       "start_station_name                                          \n",
       "Chicago Ave & Dempster St   3 days 09:45:17           109   \n",
       "Sheridan Rd & Greenleaf Ave 2 days 22:41:45           108   \n",
       "State St & Kinzie St        6 days 04:16:45           229   \n",
       "Leavitt St & North Ave      4 days 07:27:29           161   \n",
       "Benson Ave & Church St      2 days 21:18:01           110   \n",
       "...                                     ...           ...   \n",
       "Clinton St & Jackson Blvd   1 days 03:48:36           119   \n",
       "Fairbanks St & Superior St  2 days 07:43:26           241   \n",
       "900 W Harrison St           1 days 05:26:18           129   \n",
       "Canal St & Adams St         1 days 19:31:04           207   \n",
       "Clark St & Ida B Wells Dr   1 days 02:59:06           132   \n",
       "\n",
       "                                                 mean  \n",
       "start_station_name                                     \n",
       "Chicago Ave & Dempster St   0 days 00:45:00.155963302  \n",
       "Sheridan Rd & Greenleaf Ave 0 days 00:39:16.527777777  \n",
       "State St & Kinzie St        0 days 00:38:51.026200873  \n",
       "Leavitt St & North Ave      0 days 00:38:33.347826086  \n",
       "Benson Ave & Church St      0 days 00:37:48.009090909  \n",
       "...                                               ...  \n",
       "Clinton St & Jackson Blvd   0 days 00:14:01.310924369  \n",
       "Fairbanks St & Superior St  0 days 00:13:52.390041493  \n",
       "900 W Harrison St           0 days 00:13:41.534883720  \n",
       "Canal St & Adams St         0 days 00:12:36.830917874  \n",
       "Clark St & Ida B Wells Dr   0 days 00:12:15.954545454  \n",
       "\n",
       "[287 rows x 3 columns]"
      ]
     },
     "execution_count": 264,
     "metadata": {},
     "output_type": "execute_result"
    }
   ],
   "source": [
    "a = df.groupby(\"start_station_name\").agg('time_spent').sum().sort_values(ascending=False)\n",
    "b = df.groupby(\"start_station_name\").agg('time_spent').count().sort_values(ascending=False)\n",
    "a = pd.merge(a,b, on=\"start_station_name\")\n",
    "a[\"mean\"] = a[\"time_spent_x\"] / a[\"time_spent_y\"]\n",
    "a = a.loc[a[\"time_spent_y\"]>100]\n",
    "a.sort_values([\"mean\"], ascending=False)\n"
   ]
  },
  {
   "cell_type": "code",
   "execution_count": 265,
   "id": "b9c9eb6a",
   "metadata": {},
   "outputs": [
    {
     "data": {
      "text/plain": [
       "weekday\n",
       "0    10723\n",
       "1    12783\n",
       "2     8698\n",
       "3    11683\n",
       "4     9950\n",
       "5    12881\n",
       "6    17876\n",
       "Name: ride_id, dtype: int64"
      ]
     },
     "execution_count": 265,
     "metadata": {},
     "output_type": "execute_result"
    }
   ],
   "source": [
    "df[\"weekday\"] = df[\"started_at\"].dt.dayofweek\n",
    "df[\"weekday\"] = df[\"started_at\"].dt.dayofweek\n",
    "weekdf = df.groupby(\"weekday\").agg(\"ride_id\").count()\n",
    "weekdf"
   ]
  },
  {
   "cell_type": "code",
   "execution_count": 266,
   "id": "7231f3b2",
   "metadata": {},
   "outputs": [
    {
     "data": {
      "text/plain": [
       "<BarContainer object of 7 artists>"
      ]
     },
     "execution_count": 266,
     "metadata": {},
     "output_type": "execute_result"
    },
    {
     "data": {
      "image/png": "[encoded data removed]",
      "text/plain": [
       "<Figure size 1008x576 with 1 Axes>"
      ]
     },
     "metadata": {
      "needs_background": "light"
     },
     "output_type": "display_data"
    }
   ],
   "source": [
    "x = ['Monday', 'Tuesday', ' Wednesday', 'Thursday', 'Friday', 'Saturday', 'Sunday' ]\n",
    "plt.figure()\n",
    "plt.bar(x,weekdf)"
   ]
  },
  {
   "cell_type": "code",
   "execution_count": 267,
   "id": "ab6d088e",
   "metadata": {
    "scrolled": true
   },
   "outputs": [],
   "source": [
    "dayOfWeek={0:'Monday', 1:'Tuesday', 2:'Wednesday', 3:'Thursday', 4:'Friday', 5:'Saturday', 6:'Sunday'}\n",
    "\n",
    "\n",
    "datecount = df.groupby(\"date\").agg(\"ride_id\").count()\n",
    "dateweek = df.groupby(\"date\").agg(\"weekday\").mean()\n",
    "dt = pd.concat([datecount, dateweek],axis = 1)\n",
    "dt[\"weekday\"] = dt[\"weekday\"].map(dayOfWeek)"
   ]
  },
  {
   "cell_type": "code",
   "execution_count": 268,
   "id": "3797fa0e",
   "metadata": {
    "scrolled": false
   },
   "outputs": [
    {
     "data": {
      "text/plain": [
       "Text(0, 0.5, 'Rentals')"
      ]
     },
     "execution_count": 268,
     "metadata": {},
     "output_type": "execute_result"
    },
    {
     "data": {
      "image/png": "[encoded data removed]",
      "text/plain": [
       "<Figure size 1008x576 with 1 Axes>"
      ]
     },
     "metadata": {
      "needs_background": "light"
     },
     "output_type": "display_data"
    },
    {
     "data": {
      "image/png": "[encoded data removed]",
      "text/plain": [
       "<Figure size 1008x576 with 1 Axes>"
      ]
     },
     "metadata": {
      "needs_background": "light"
     },
     "output_type": "display_data"
    }
   ],
   "source": [
    "p = [5,1,6,7,4,2,3]\n",
    "fig, ax = plt.subplots()\n",
    "ax = dt.boxplot(by = \"weekday\",positions = p)\n",
    "fig.suptitle(\"Popularity by weekdays\")\n",
    "ax.set_title(\"Popularity by weekdays\")\n",
    "ax.set_xlabel(\"\")\n",
    "ax.set_ylabel(\"Rentals\")"
   ]
  },
  {
   "cell_type": "code",
   "execution_count": null,
   "id": "0ae721d7",
   "metadata": {},
   "outputs": [],
   "source": []
  },
  {
   "cell_type": "code",
   "execution_count": 269,
   "id": "e1b37337",
   "metadata": {},
   "outputs": [
    {
     "data": {
      "text/html": [
       "<div>\n",
       "<style scoped>\n",
       "    .dataframe tbody tr th:only-of-type {\n",
       "        vertical-align: middle;\n",
       "    }\n",
       "\n",
       "    .dataframe tbody tr th {\n",
       "        vertical-align: top;\n",
       "    }\n",
       "\n",
       "    .dataframe thead th {\n",
       "        text-align: right;\n",
       "    }\n",
       "</style>\n",
       "<table border=\"1\" class=\"dataframe\">\n",
       "  <thead>\n",
       "    <tr style=\"text-align: right;\">\n",
       "      <th></th>\n",
       "      <th>ride_id</th>\n",
       "      <th>weekday</th>\n",
       "    </tr>\n",
       "    <tr>\n",
       "      <th>date</th>\n",
       "      <th></th>\n",
       "      <th></th>\n",
       "    </tr>\n",
       "  </thead>\n",
       "  <tbody>\n",
       "    <tr>\n",
       "      <th>2020-04-01</th>\n",
       "      <td>2291</td>\n",
       "      <td>Wednesday</td>\n",
       "    </tr>\n",
       "    <tr>\n",
       "      <th>2020-04-02</th>\n",
       "      <td>2599</td>\n",
       "      <td>Thursday</td>\n",
       "    </tr>\n",
       "    <tr>\n",
       "      <th>2020-04-03</th>\n",
       "      <td>3523</td>\n",
       "      <td>Friday</td>\n",
       "    </tr>\n",
       "    <tr>\n",
       "      <th>2020-04-04</th>\n",
       "      <td>2284</td>\n",
       "      <td>Saturday</td>\n",
       "    </tr>\n",
       "    <tr>\n",
       "      <th>2020-04-05</th>\n",
       "      <td>2882</td>\n",
       "      <td>Sunday</td>\n",
       "    </tr>\n",
       "    <tr>\n",
       "      <th>2020-04-06</th>\n",
       "      <td>2421</td>\n",
       "      <td>Monday</td>\n",
       "    </tr>\n",
       "    <tr>\n",
       "      <th>2020-04-07</th>\n",
       "      <td>5175</td>\n",
       "      <td>Tuesday</td>\n",
       "    </tr>\n",
       "    <tr>\n",
       "      <th>2020-04-08</th>\n",
       "      <td>2361</td>\n",
       "      <td>Wednesday</td>\n",
       "    </tr>\n",
       "    <tr>\n",
       "      <th>2020-04-09</th>\n",
       "      <td>1970</td>\n",
       "      <td>Thursday</td>\n",
       "    </tr>\n",
       "    <tr>\n",
       "      <th>2020-04-10</th>\n",
       "      <td>2720</td>\n",
       "      <td>Friday</td>\n",
       "    </tr>\n",
       "    <tr>\n",
       "      <th>2020-04-11</th>\n",
       "      <td>4443</td>\n",
       "      <td>Saturday</td>\n",
       "    </tr>\n",
       "    <tr>\n",
       "      <th>2020-04-12</th>\n",
       "      <td>3658</td>\n",
       "      <td>Sunday</td>\n",
       "    </tr>\n",
       "    <tr>\n",
       "      <th>2020-04-13</th>\n",
       "      <td>1817</td>\n",
       "      <td>Monday</td>\n",
       "    </tr>\n",
       "    <tr>\n",
       "      <th>2020-04-14</th>\n",
       "      <td>1603</td>\n",
       "      <td>Tuesday</td>\n",
       "    </tr>\n",
       "    <tr>\n",
       "      <th>2020-04-15</th>\n",
       "      <td>1415</td>\n",
       "      <td>Wednesday</td>\n",
       "    </tr>\n",
       "    <tr>\n",
       "      <th>2020-04-16</th>\n",
       "      <td>2269</td>\n",
       "      <td>Thursday</td>\n",
       "    </tr>\n",
       "    <tr>\n",
       "      <th>2020-04-17</th>\n",
       "      <td>1431</td>\n",
       "      <td>Friday</td>\n",
       "    </tr>\n",
       "    <tr>\n",
       "      <th>2020-04-18</th>\n",
       "      <td>5109</td>\n",
       "      <td>Saturday</td>\n",
       "    </tr>\n",
       "    <tr>\n",
       "      <th>2020-04-19</th>\n",
       "      <td>5144</td>\n",
       "      <td>Sunday</td>\n",
       "    </tr>\n",
       "    <tr>\n",
       "      <th>2020-04-20</th>\n",
       "      <td>3898</td>\n",
       "      <td>Monday</td>\n",
       "    </tr>\n",
       "    <tr>\n",
       "      <th>2020-04-21</th>\n",
       "      <td>2624</td>\n",
       "      <td>Tuesday</td>\n",
       "    </tr>\n",
       "    <tr>\n",
       "      <th>2020-04-22</th>\n",
       "      <td>1993</td>\n",
       "      <td>Wednesday</td>\n",
       "    </tr>\n",
       "    <tr>\n",
       "      <th>2020-04-23</th>\n",
       "      <td>2282</td>\n",
       "      <td>Thursday</td>\n",
       "    </tr>\n",
       "    <tr>\n",
       "      <th>2020-04-24</th>\n",
       "      <td>2276</td>\n",
       "      <td>Friday</td>\n",
       "    </tr>\n",
       "    <tr>\n",
       "      <th>2020-04-25</th>\n",
       "      <td>1045</td>\n",
       "      <td>Saturday</td>\n",
       "    </tr>\n",
       "    <tr>\n",
       "      <th>2020-04-26</th>\n",
       "      <td>6192</td>\n",
       "      <td>Sunday</td>\n",
       "    </tr>\n",
       "    <tr>\n",
       "      <th>2020-04-27</th>\n",
       "      <td>2587</td>\n",
       "      <td>Monday</td>\n",
       "    </tr>\n",
       "    <tr>\n",
       "      <th>2020-04-28</th>\n",
       "      <td>3381</td>\n",
       "      <td>Tuesday</td>\n",
       "    </tr>\n",
       "    <tr>\n",
       "      <th>2020-04-29</th>\n",
       "      <td>638</td>\n",
       "      <td>Wednesday</td>\n",
       "    </tr>\n",
       "    <tr>\n",
       "      <th>2020-04-30</th>\n",
       "      <td>2563</td>\n",
       "      <td>Thursday</td>\n",
       "    </tr>\n",
       "  </tbody>\n",
       "</table>\n",
       "</div>"
      ],
      "text/plain": [
       "            ride_id    weekday\n",
       "date                          \n",
       "2020-04-01     2291  Wednesday\n",
       "2020-04-02     2599   Thursday\n",
       "2020-04-03     3523     Friday\n",
       "2020-04-04     2284   Saturday\n",
       "2020-04-05     2882     Sunday\n",
       "2020-04-06     2421     Monday\n",
       "2020-04-07     5175    Tuesday\n",
       "2020-04-08     2361  Wednesday\n",
       "2020-04-09     1970   Thursday\n",
       "2020-04-10     2720     Friday\n",
       "2020-04-11     4443   Saturday\n",
       "2020-04-12     3658     Sunday\n",
       "2020-04-13     1817     Monday\n",
       "2020-04-14     1603    Tuesday\n",
       "2020-04-15     1415  Wednesday\n",
       "2020-04-16     2269   Thursday\n",
       "2020-04-17     1431     Friday\n",
       "2020-04-18     5109   Saturday\n",
       "2020-04-19     5144     Sunday\n",
       "2020-04-20     3898     Monday\n",
       "2020-04-21     2624    Tuesday\n",
       "2020-04-22     1993  Wednesday\n",
       "2020-04-23     2282   Thursday\n",
       "2020-04-24     2276     Friday\n",
       "2020-04-25     1045   Saturday\n",
       "2020-04-26     6192     Sunday\n",
       "2020-04-27     2587     Monday\n",
       "2020-04-28     3381    Tuesday\n",
       "2020-04-29      638  Wednesday\n",
       "2020-04-30     2563   Thursday"
      ]
     },
     "execution_count": 269,
     "metadata": {},
     "output_type": "execute_result"
    }
   ],
   "source": [
    "dt"
   ]
  },
  {
   "cell_type": "code",
   "execution_count": null,
   "id": "b64a6410",
   "metadata": {},
   "outputs": [],
   "source": []
  }
 ],
 "metadata": {
  "kernelspec": {
   "display_name": "Python 3",
   "language": "python",
   "name": "python3"
  },
  "language_info": {
   "codemirror_mode": {
    "name": "ipython",
    "version": 3
   },
   "file_extension": ".py",
   "mimetype": "text/x-python",
   "name": "python",
   "nbconvert_exporter": "python",
   "pygments_lexer": "ipython3",
   "version": "3.8.8"
  }
 },
 "nbformat": 4,
 "nbformat_minor": 5
}
